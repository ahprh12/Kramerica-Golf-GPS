{
 "cells": [
  {
   "cell_type": "code",
   "execution_count": 1,
   "metadata": {},
   "outputs": [],
   "source": [
    "# Import Dependencies\n",
    "import pandas as pd\n",
    "\n",
    "# Create reference to CSV file\n",
    "fpath = \"Resources/selfscoutdata.xlsx\"\n",
    "\n",
    "#pd.reset_option(\"all\")\n",
    "#pd.set_option('precision', 0)\n",
    "\n",
    "# Import the CSV into a pandas DataFrame\n",
    "raw = pd.read_excel(fpath)\n",
    "raw[\"Name\"]= raw[\"Name\"].str.split(\",\", n = 1, expand = True)"
   ]
  },
  {
   "cell_type": "code",
   "execution_count": 2,
   "metadata": {},
   "outputs": [],
   "source": [
    "orp = raw[[\"FORM\",\"Down\",\"Distance\",\"R/P\",]]\n",
    "#orp = orp.loc[(orp[\"Down\"] == 2) & (orp[\"Distance\"] < 11)]\n",
    "#orp = orp.loc[(orp[\"Down\"] == 2)]\n",
    "#orp\n",
    "#orp[\"Distance\"].describe()"
   ]
  },
  {
   "cell_type": "code",
   "execution_count": 3,
   "metadata": {},
   "outputs": [
    {
     "name": "stderr",
     "output_type": "stream",
     "text": [
      "<ipython-input-3-b9ab2a1c8e52>:6: SettingWithCopyWarning: \n",
      "A value is trying to be set on a copy of a slice from a DataFrame.\n",
      "Try using .loc[row_indexer,col_indexer] = value instead\n",
      "\n",
      "See the caveats in the documentation: https://pandas.pydata.org/pandas-docs/stable/user_guide/indexing.html#returning-a-view-versus-a-copy\n",
      "  orp['YD'] = pd.cut(orp['Distance'], bins=cut_bins, labels=cut_labels_5)\n"
     ]
    }
   ],
   "source": [
    "cut_labels_5 = ['1', '2-3', '4-6', '7-10', '11+']\n",
    "cut_bins = [0, 1, 3, 6, 10, 49]\n",
    "\n",
    "#pd.cut(orp['Distance'], bins=cut_bins, labels=cut_labels_5)\n",
    "\n",
    "orp['YD'] = pd.cut(orp['Distance'], bins=cut_bins, labels=cut_labels_5)\n",
    "orp = orp[[\"FORM\",\"Down\",\"R/P\",\"YD\"]]\n",
    "#orp"
   ]
  },
  {
   "cell_type": "code",
   "execution_count": 4,
   "metadata": {},
   "outputs": [],
   "source": [
    "run = orp.loc[orp[\"R/P\"] == \"R\"]\n",
    "\n",
    "run = run.groupby([\"Down\",\"YD\"])[\"R/P\"].count().reset_index(name=\"R\")\n",
    "#run = run.groupby([\"Down\",\"YD\",\"FORM\"])[\"R\"].count().reset_index()\n",
    "#run"
   ]
  },
  {
   "cell_type": "code",
   "execution_count": 5,
   "metadata": {},
   "outputs": [],
   "source": [
    "pas = orp.loc[orp[\"R/P\"] == \"P\"]\n",
    "\n",
    "pas = pas.groupby([\"Down\",\"YD\"])[\"R/P\"].count().reset_index(name=\"P\")"
   ]
  },
  {
   "cell_type": "code",
   "execution_count": 6,
   "metadata": {},
   "outputs": [],
   "source": [
    "mer = run.merge(pas, on=[\"Down\",\"YD\"])\n",
    "#mer"
   ]
  },
  {
   "cell_type": "code",
   "execution_count": 118,
   "metadata": {},
   "outputs": [
    {
     "data": {
      "text/plain": [
       "'50.0%'"
      ]
     },
     "execution_count": 118,
     "metadata": {},
     "output_type": "execute_result"
    }
   ],
   "source": [
    "#### THIS IS A KEEPER ####\n",
    "fin = mer.set_index([\"Down\",\"YD\"])\n",
    "tt = (fin.div(fin.sum(axis=1), axis=0)*100).round(0).astype(str) + '%'\n",
    "mer1 = fin.merge(tt, on=[\"Down\",\"YD\"])\n",
    "mer1.rename(columns={'R_x': 'R', 'P_x': 'P', 'R_y': 'R%', 'P_y': 'P%'}, inplace=True)\n",
    "mer1 = mer1.reset_index()\n",
    "#mer1\n",
    "tdh = mer1.set_index([\"Down\",\"YD\"])[['R','P','R%','P%']].T.apply(tuple).to_dict('dict')\n",
    "tdh[1, '1']['R%']"
   ]
  },
  {
   "cell_type": "code",
   "execution_count": 8,
   "metadata": {},
   "outputs": [],
   "source": [
    "te = orp.loc[orp[\"R/P\"] == \"R\"]\n",
    "\n",
    "te = te.groupby([\"Down\",\"YD\",\"FORM\"])[\"R/P\"].count().reset_index(name=\"R\")\n",
    "te = te[te['R'] > 0]\n",
    "#te.T.to_dict('list')"
   ]
  },
  {
   "cell_type": "code",
   "execution_count": 9,
   "metadata": {},
   "outputs": [],
   "source": [
    "tp = orp.loc[orp[\"R/P\"] == \"P\"]\n",
    "\n",
    "tp = tp.groupby([\"Down\",\"YD\",\"FORM\"])[\"R/P\"].count().reset_index(name=\"P\")\n",
    "tp = tp[tp['P'] > 0]\n",
    "#tp"
   ]
  },
  {
   "cell_type": "code",
   "execution_count": 74,
   "metadata": {},
   "outputs": [],
   "source": [
    "mr = te.merge(tp, on=[\"Down\",\"YD\",\"FORM\"], how='outer')\n",
    "mr[\"R\"].fillna(0,inplace=True)\n",
    "mr[\"P\"].fillna(0,inplace=True)"
   ]
  },
  {
   "cell_type": "code",
   "execution_count": 73,
   "metadata": {},
   "outputs": [],
   "source": [
    "fn = mr.set_index([\"Down\",\"YD\",\"FORM\"])\n",
    "tt1 = (fn.div(fn.sum(axis=1), axis=0)*100).round(0).astype(str) + '%'\n",
    "merf = fn.merge(tt1, on=[\"Down\",\"YD\",\"FORM\"])\n",
    "merf.rename(columns={'R_x': 'R', 'P_x': 'P', 'R_y': 'R%', 'P_y': 'P%'}, inplace=True)\n",
    "merf = merf.reset_index()"
   ]
  },
  {
   "cell_type": "code",
   "execution_count": 85,
   "metadata": {},
   "outputs": [],
   "source": [
    "mydict = merf.set_index([\"Down\",\"YD\",\"FORM\"])[['R','P','R%','P%']].T.apply(tuple).to_dict('dict')"
   ]
  },
  {
   "cell_type": "code",
   "execution_count": 70,
   "metadata": {},
   "outputs": [],
   "source": [
    "def partial_match(key, d):\n",
    "    for k, v in d.items():\n",
    "        if all(k1 == k2 or k2 is None for k1, k2 in zip(k, key)):\n",
    "            yield k[2],v"
   ]
  },
  {
   "cell_type": "code",
   "execution_count": 125,
   "metadata": {},
   "outputs": [
    {
     "data": {
      "text/plain": [
       "('TURBO', {'R': 1.0, 'P': 0.0, 'R%': '100.0%', 'P%': '0.0%'})"
      ]
     },
     "execution_count": 125,
     "metadata": {},
     "output_type": "execute_result"
    }
   ],
   "source": [
    "x = list(partial_match((3, None, None), mydict))\n",
    "cats = ['1', '2-3', '4-6', '7-10', '11+']\n",
    "newd = {}\n",
    "\n",
    "for a in range(1,5):\n",
    "    for cat in cats:\n",
    "        newd[str(a)+\"_\"+cat] = list(partial_match((a, cat, None), mydict))\n",
    "e = newd[\"1_1\"]\n",
    "e[0]"
   ]
  },
  {
   "cell_type": "code",
   "execution_count": null,
   "metadata": {},
   "outputs": [],
   "source": []
  },
  {
   "cell_type": "code",
   "execution_count": null,
   "metadata": {},
   "outputs": [],
   "source": []
  }
 ],
 "metadata": {
  "kernelspec": {
   "display_name": "Python 3",
   "language": "python",
   "name": "python3"
  },
  "language_info": {
   "codemirror_mode": {
    "name": "ipython",
    "version": 3
   },
   "file_extension": ".py",
   "mimetype": "text/x-python",
   "name": "python",
   "nbconvert_exporter": "python",
   "pygments_lexer": "ipython3",
   "version": "3.8.3"
  }
 },
 "nbformat": 4,
 "nbformat_minor": 4
}
