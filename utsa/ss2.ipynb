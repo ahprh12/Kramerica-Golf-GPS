{
 "cells": [
  {
   "cell_type": "code",
   "execution_count": 88,
   "metadata": {},
   "outputs": [
    {
     "name": "stdout",
     "output_type": "stream",
     "text": [
      "\n",
      ": boolean\n",
      "    use_inf_as_null had been deprecated and will be removed in a future\n",
      "    version. Use `use_inf_as_na` instead.\n",
      "\n"
     ]
    },
    {
     "name": "stderr",
     "output_type": "stream",
     "text": [
      "C:\\Home\\SkyKing\\anaconda\\lib\\site-packages\\pandas\\_config\\config.py:620: FutureWarning: \n",
      ": boolean\n",
      "    use_inf_as_null had been deprecated and will be removed in a future\n",
      "    version. Use `use_inf_as_na` instead.\n",
      "\n",
      "  warnings.warn(d.msg, FutureWarning)\n"
     ]
    }
   ],
   "source": [
    "# Import Dependencies\n",
    "import pandas as pd\n",
    "import numpy as np\n",
    "\n",
    "# Create reference to CSV file\n",
    "fpath = \"Resources/selfscoutdata.xlsx\"\n",
    "pd.reset_option(\"all\")\n",
    "pd.set_option('precision', 0)\n",
    "\n",
    "formations = {\n",
    "\n",
    "\t\t'0 TRIPS':'EMPTY',\n",
    "\t\t'9 LOUIE NASTY':'EMPTY',\n",
    "\t\t'ACE':'2x2',\n",
    "\t\t'ALL':'UNBALANCED',\n",
    "\t\t'ALL KING':'UNBALANCED',\n",
    "\t\t'ALPHA':'3x1',\n",
    "\t\t'DEUCE':'2x2',\n",
    "\t\t'DOUBLES':'2x2',\n",
    "\t\t'DUO':'2x2',\n",
    "\t\t'EMPTY':'EMPTY',\n",
    "\t\t'EXIT':'EMPTY',\n",
    "\t\t'FLIP TRIPS':'3x1',\n",
    "\t\t'JOKER':'2x2',\n",
    "\t\t'JOKER SQUEEZE':'2x2',\n",
    "\t\t'KING':'3x1',\n",
    "\t\t'LOUIE':'3x1',\n",
    "\t\t'LOUIE FAR':'2x2',\n",
    "\t\t'LOUIE KING':'2x2',\n",
    "\t\t'LOUIE KING NASTY':'UNBALANCED',\n",
    "\t\t'LOUIE QUEEN':'3x1',\n",
    "\t\t'MINUTEMAN':'UNKNOWN',\n",
    "\t\t'QUADS':'EMPTY',\n",
    "\t\t'QUAKER':'UNKNOWN',\n",
    "\t\t'QUEEN':'2x2',\n",
    "\t\t'ROGER':'3x1',\n",
    "\t\t'ROGER FAR':'2x2',\n",
    "\t\t'ROGER KING':'3x1',\n",
    "\t\t'ROGER KING NASTY':'UNKNOWN',\n",
    "\t\t'ROGER QUEEN':'3x1',\n",
    "\t\t'SAINTS':'UNKNOWN',\n",
    "\t\t'SPLIT':'3x1',\n",
    "\t\t'TREY':'3x1',\n",
    "\t\t'TRIBE':'3x1',\n",
    "\t\t'TRIO':'3x1',\n",
    "\t\t'TRIPS':'3x1',\n",
    "\t\t'TROOP':'3x1',\n",
    "\t\t'TROY':'3x1',\n",
    "\t\t'TURBO':'UNKNOWN',\n",
    "\t}\n",
    "# Import the CSV into a pandas DataFrame\n",
    "raw = pd.read_excel(fpath)\n",
    "raw[\"Name\"]= raw[\"Name\"].str.split(\",\", n = 1, expand = True)\n",
    "\n",
    "# ADD TEAM FILTER OPTION HERE IF THERE IS ONE ********************************************************************\n",
    "#raw = raw.loc[raw[\"Name\"] == \"20 08 UTSA OFF VS FAU DEF (10/31/2020)\"]\n",
    "# OTHERWISE WERE SHOWING OVERALL RP\n",
    "\n",
    "raw.insert(2, \"SPLITS\", \"na\")\n",
    "pers = raw\n",
    "\n",
    "for index, row in raw.iterrows():\n",
    "    raw.loc[index,'SPLITS'] = formations[row['FORM']]"
   ]
  },
  {
   "cell_type": "code",
   "execution_count": 89,
   "metadata": {},
   "outputs": [],
   "source": [
    "raw = raw[[\"FORM\", \"SPLITS\", \"R/P\",]]"
   ]
  },
  {
   "cell_type": "code",
   "execution_count": 90,
   "metadata": {},
   "outputs": [],
   "source": [
    "run = raw.loc[raw[\"R/P\"] == \"R\"]\n",
    "rp = run.groupby([\"FORM\", \"SPLITS\"])[\"R/P\"].count().reset_index(name=\"R\")\n",
    "#rp\n",
    "\n",
    "pas = raw.loc[raw[\"R/P\"] == \"P\"]\n",
    "pp = pas.groupby([\"FORM\", \"SPLITS\"])[\"R/P\"].count().reset_index(name=\"P\")\n",
    "\n",
    "#rp.loc[rp[\"Name\"] == \"20 08 UTSA OFF VS FAU DEF (10/31/2020)\"]"
   ]
  },
  {
   "cell_type": "code",
   "execution_count": 91,
   "metadata": {},
   "outputs": [],
   "source": [
    "mer = rp.merge(pp, how='outer',on=[\"FORM\",\"SPLITS\"])\n",
    "#mer = mer.set_index([\"Name\", \"FORM\", \"SPLITS\"])\n",
    "#mer = rp.combine_first(pp)\n",
    "\n",
    "mer.fillna(0,inplace=True)"
   ]
  },
  {
   "cell_type": "code",
   "execution_count": 92,
   "metadata": {},
   "outputs": [],
   "source": [
    "fin = mer[[\"FORM\", \"SPLITS\", \"R\", \"P\"]]\n",
    "fin = fin.set_index([\"FORM\", \"SPLITS\"])\n",
    "\n",
    "tt = (fin.div(fin.sum(axis=1,skipna = True), axis=0)*100).round(0).astype(str) + '%'\n",
    "mer = fin.merge(tt, on=[\"FORM\", \"SPLITS\"])\n",
    "\n",
    "mer.rename(columns={'R_x': 'R', 'P_x': 'P', 'R_y': 'R%', 'P_y': 'P%'}, inplace=True)\n",
    "mer = mer.reset_index()\n",
    "mer.fillna(0,inplace=True)"
   ]
  },
  {
   "cell_type": "code",
   "execution_count": 93,
   "metadata": {},
   "outputs": [
    {
     "name": "stderr",
     "output_type": "stream",
     "text": [
      "<ipython-input-93-3fbf14ad0aa7>:4: FutureWarning: Indexing with multiple keys (implicitly converted to a tuple of keys) will be deprecated, use a list instead.\n",
      "  sm = mer.groupby('SPLITS')['R','P'].sum()\n"
     ]
    }
   ],
   "source": [
    "############### summary table - group by splits based on above data ################\n",
    "#mer.groupby(['SPLITS']).groups.keys()\n",
    "\n",
    "sm = mer.groupby('SPLITS')['R','P'].sum()\n",
    "rtot = sm['R'].sum()\n",
    "ptot = sm['P'].sum()\n",
    "sm = sm.reset_index()\n",
    "\n",
    "df = pd.DataFrame({\"SPLITS\":['OVERALL'], \"R\":[rtot], \"P\":[ptot]}) \n",
    "df = df.reset_index()\n",
    "mm = pd.concat([sm,df])\n",
    "mm = mm[[\"SPLITS\", \"R\", \"P\"]]\n",
    "#mer[mer['Name'] == '20 08 UTSA OFF VS FAU DEF (10/31/2020)'].groupby('SPLITS')['R','P'].sum()"
   ]
  },
  {
   "cell_type": "code",
   "execution_count": 94,
   "metadata": {},
   "outputs": [],
   "source": [
    "###### PERSONNEL BREAKDOWN ***********************************\n"
   ]
  },
  {
   "cell_type": "code",
   "execution_count": 95,
   "metadata": {},
   "outputs": [],
   "source": [
    "\n",
    "run = pers[[\"OFF PERS\",\"R/P\",]]\n",
    "run = run.loc[run[\"R/P\"] == \"R\"]\n",
    "run = run.groupby('OFF PERS')[\"R/P\"].count().reset_index(name=\"R\")"
   ]
  },
  {
   "cell_type": "code",
   "execution_count": 96,
   "metadata": {},
   "outputs": [],
   "source": [
    "pas = pers[[\"OFF PERS\",\"R/P\",]]\n",
    "pas = pas.loc[pas[\"R/P\"] == \"P\"]\n",
    "pas = pas.groupby('OFF PERS')[\"R/P\"].count().reset_index(name=\"P\")"
   ]
  },
  {
   "cell_type": "code",
   "execution_count": 97,
   "metadata": {},
   "outputs": [],
   "source": [
    "pers = run.merge(pas,on=\"OFF PERS\",how=\"outer\")\n",
    "pers.rename(columns={'OFF PERS': 'SPLITS'}, inplace=True)\n",
    "pers.fillna(0,inplace=True)"
   ]
  },
  {
   "cell_type": "code",
   "execution_count": 98,
   "metadata": {},
   "outputs": [],
   "source": [
    "total = pd.concat([pers,mm])"
   ]
  },
  {
   "cell_type": "code",
   "execution_count": 99,
   "metadata": {},
   "outputs": [
    {
     "data": {
      "text/html": [
       "<div>\n",
       "<style scoped>\n",
       "    .dataframe tbody tr th:only-of-type {\n",
       "        vertical-align: middle;\n",
       "    }\n",
       "\n",
       "    .dataframe tbody tr th {\n",
       "        vertical-align: top;\n",
       "    }\n",
       "\n",
       "    .dataframe thead th {\n",
       "        text-align: right;\n",
       "    }\n",
       "</style>\n",
       "<table border=\"1\" class=\"dataframe\">\n",
       "  <thead>\n",
       "    <tr style=\"text-align: right;\">\n",
       "      <th></th>\n",
       "      <th>SPLITS</th>\n",
       "      <th>R</th>\n",
       "      <th>P</th>\n",
       "      <th>R%</th>\n",
       "      <th>P%</th>\n",
       "    </tr>\n",
       "  </thead>\n",
       "  <tbody>\n",
       "    <tr>\n",
       "      <th>0</th>\n",
       "      <td>11</td>\n",
       "      <td>196</td>\n",
       "      <td>286</td>\n",
       "      <td>41.0%</td>\n",
       "      <td>59.0%</td>\n",
       "    </tr>\n",
       "    <tr>\n",
       "      <th>1</th>\n",
       "      <td>12</td>\n",
       "      <td>66</td>\n",
       "      <td>46</td>\n",
       "      <td>59.0%</td>\n",
       "      <td>41.0%</td>\n",
       "    </tr>\n",
       "    <tr>\n",
       "      <th>2</th>\n",
       "      <td>10</td>\n",
       "      <td>0</td>\n",
       "      <td>5</td>\n",
       "      <td>0.0%</td>\n",
       "      <td>100.0%</td>\n",
       "    </tr>\n",
       "    <tr>\n",
       "      <th>3</th>\n",
       "      <td>2x2</td>\n",
       "      <td>81</td>\n",
       "      <td>158</td>\n",
       "      <td>34.0%</td>\n",
       "      <td>66.0%</td>\n",
       "    </tr>\n",
       "    <tr>\n",
       "      <th>4</th>\n",
       "      <td>3x1</td>\n",
       "      <td>124</td>\n",
       "      <td>139</td>\n",
       "      <td>47.0%</td>\n",
       "      <td>53.0%</td>\n",
       "    </tr>\n",
       "    <tr>\n",
       "      <th>5</th>\n",
       "      <td>EMPTY</td>\n",
       "      <td>4</td>\n",
       "      <td>11</td>\n",
       "      <td>27.0%</td>\n",
       "      <td>73.0%</td>\n",
       "    </tr>\n",
       "    <tr>\n",
       "      <th>6</th>\n",
       "      <td>UNBALANCED</td>\n",
       "      <td>15</td>\n",
       "      <td>2</td>\n",
       "      <td>88.0%</td>\n",
       "      <td>12.0%</td>\n",
       "    </tr>\n",
       "    <tr>\n",
       "      <th>7</th>\n",
       "      <td>UNKNOWN</td>\n",
       "      <td>38</td>\n",
       "      <td>27</td>\n",
       "      <td>58.0%</td>\n",
       "      <td>42.0%</td>\n",
       "    </tr>\n",
       "    <tr>\n",
       "      <th>8</th>\n",
       "      <td>OVERALL</td>\n",
       "      <td>262</td>\n",
       "      <td>337</td>\n",
       "      <td>44.0%</td>\n",
       "      <td>56.0%</td>\n",
       "    </tr>\n",
       "  </tbody>\n",
       "</table>\n",
       "</div>"
      ],
      "text/plain": [
       "       SPLITS    R    P     R%      P%\n",
       "0          11  196  286  41.0%   59.0%\n",
       "1          12   66   46  59.0%   41.0%\n",
       "2          10    0    5   0.0%  100.0%\n",
       "3         2x2   81  158  34.0%   66.0%\n",
       "4         3x1  124  139  47.0%   53.0%\n",
       "5       EMPTY    4   11  27.0%   73.0%\n",
       "6  UNBALANCED   15    2  88.0%   12.0%\n",
       "7     UNKNOWN   38   27  58.0%   42.0%\n",
       "8     OVERALL  262  337  44.0%   56.0%"
      ]
     },
     "execution_count": 99,
     "metadata": {},
     "output_type": "execute_result"
    }
   ],
   "source": [
    "total = total.set_index(['SPLITS'])\n",
    "cent = (total.div(total.sum(axis=1), axis=0)*100).round(0).astype(str) + '%'\n",
    "total = total.merge(cent, on=['SPLITS'])\n",
    "total.rename(columns={'R_x': 'R', 'P_x': 'P', 'R_y': 'R%', 'P_y': 'P%'}, inplace=True)\n",
    "total = total.reset_index()\n",
    "total"
   ]
  },
  {
   "cell_type": "code",
   "execution_count": null,
   "metadata": {},
   "outputs": [],
   "source": []
  }
 ],
 "metadata": {
  "kernelspec": {
   "display_name": "Python 3",
   "language": "python",
   "name": "python3"
  },
  "language_info": {
   "codemirror_mode": {
    "name": "ipython",
    "version": 3
   },
   "file_extension": ".py",
   "mimetype": "text/x-python",
   "name": "python",
   "nbconvert_exporter": "python",
   "pygments_lexer": "ipython3",
   "version": "3.8.3"
  }
 },
 "nbformat": 4,
 "nbformat_minor": 4
}
